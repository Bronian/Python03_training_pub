{
  "nbformat": 4,
  "nbformat_minor": 0,
  "metadata": {
    "colab": {
      "name": "[강의] ML01 (1)_MM편집버전.ipynb의 사본",
      "private_outputs": true,
      "provenance": [],
      "collapsed_sections": [],
      "include_colab_link": true
    },
    "kernelspec": {
      "name": "python3",
      "display_name": "Python 3"
    },
    "language_info": {
      "name": "python"
    }
  },
  "cells": [
    {
      "cell_type": "markdown",
      "metadata": {
        "id": "view-in-github",
        "colab_type": "text"
      },
      "source": [
        "<a href=\"https://colab.research.google.com/github/Bronian/Python03_training_pub/blob/main/%5B%EA%B0%95%EC%9D%98%5D_ML01_(1)_MM%ED%8E%B8%EC%A7%91%EB%B2%84%EC%A0%84_ipynb%EC%9D%98_%EC%82%AC%EB%B3%B8.ipynb\" target=\"_parent\"><img src=\"https://colab.research.google.com/assets/colab-badge.svg\" alt=\"Open In Colab\"/></a>"
      ]
    },
    {
      "cell_type": "markdown",
      "source": [
        "### **기계학습 day 1**"
      ],
      "metadata": {
        "id": "EPGUgn3cG4Mm"
      }
    },
    {
      "cell_type": "markdown",
      "source": [
        "# **예제 1. ML all around with NBA stats**"
      ],
      "metadata": {
        "id": "QCLMoLexHH78"
      }
    },
    {
      "cell_type": "markdown",
      "source": [
        "(1) import libraries"
      ],
      "metadata": {
        "id": "VO_Ca7fZHeMH"
      }
    },
    {
      "cell_type": "markdown",
      "source": [
        "편집을 위한 시스템 라이브러리를 호출함"
      ],
      "metadata": {
        "id": "Y2OGVWr7Srn0"
      }
    },
    {
      "cell_type": "code",
      "source": [
        "#넘파이 numpy, 판다스, pandas\n",
        "import numpy as np\n",
        "import pandas as pd"
      ],
      "metadata": {
        "id": "lvT3tj0bHGNI"
      },
      "execution_count": null,
      "outputs": []
    },
    {
      "cell_type": "markdown",
      "source": [
        "(2) file upload"
      ],
      "metadata": {
        "id": "qmkIYl8WHhe9"
      }
    },
    {
      "cell_type": "markdown",
      "source": [
        "내가 보유한 데이터베이스를 업로드 함.\n",
        "여기서는 nba선수들의 각 스탯에 대한 엑셀 자료\n",
        "\n",
        "files.upload() 를 통해, 내 하드의 파일을 업로드 할 수 있음.\n"
      ],
      "metadata": {
        "id": "qJThSqtbS6PP"
      }
    },
    {
      "cell_type": "code",
      "source": [
        "from google.colab import files\n",
        "files.upload()\n",
        "nbastat = pd.read_csv ('nbastat2022.csv')\n",
        "nbastat"
      ],
      "metadata": {
        "id": "Qp4QXSV1Hkbl"
      },
      "execution_count": null,
      "outputs": []
    },
    {
      "cell_type": "markdown",
      "source": [
        "(3) variable 설정"
      ],
      "metadata": {
        "id": "cCKWe8OXHp4U"
      }
    },
    {
      "cell_type": "code",
      "source": [
        "# data의 갯수: m --> 읽어들인 csv 파일의 줄 수\n",
        "### M 파일의 줄 수 -> 행의 수\n",
        "\n",
        "m = len(nbastat)\n",
        "print(m)\n",
        "# 특징 추출: 31개의 속성 필요 없음 --> FGA (X) & FGM (Y)만 필요함\n",
        "### M X에 nbastat의 열 중, fga 열의 데이터를 넣는다. Y에 nbastat의 열 중, fgm 열의 데이터를 넣는다.\n",
        "X = nbastat[['FGA']]\n",
        "Y = nbastat[['FGM']]\n",
        "print(X)\n",
        "print(Y)\n",
        "#결측값 제거 --> fillna\n",
        "X = X.fillna(0)\n",
        "Y = Y.fillna(0)\n",
        "\n",
        "type(X)"
      ],
      "metadata": {
        "id": "Jxzl0AdtHyKE"
      },
      "execution_count": null,
      "outputs": []
    },
    {
      "cell_type": "markdown",
      "source": [
        "(4) array로 변환"
      ],
      "metadata": {
        "id": "qqwExJOrHyn-"
      }
    },
    {
      "cell_type": "code",
      "source": [
        "X = (np.array(X)).reshape(m, 1)\n",
        "Y = (np.array(Y)).reshape(m, 1)\n",
        "#print(X)\n",
        "#type(X)\n",
        "\n",
        "import matplotlib.pyplot as plt\n",
        "#데이터 도식화를 위해서, matplotlib 사용\n",
        "plt.plot(X, Y, '.b') # plt.plot (x축 값, y축 값 대입, 표시는 점 & 파란색으로 시행)\n",
        "plt.xlabel(\"FGA\") #x축에 이름붙이기\n",
        "plt.ylabel(\"FGM\") #y축에 이름붙이기"
      ],
      "metadata": {
        "id": "EXgf-rpvH3r0"
      },
      "execution_count": null,
      "outputs": []
    },
    {
      "cell_type": "markdown",
      "source": [
        "(5) tensor 변환"
      ],
      "metadata": {
        "id": "K4nBEwJFH4Eu"
      }
    },
    {
      "cell_type": "code",
      "source": [
        "X0 = np.ones((m, 1)) # ones는 1을 만들어달라라는 함수, (m, 1) m개의 줄의 1을 만들어 달라\n",
        "Xb = np.c_[X0, X] # 1과 X를 붙여주세요 --> ### MM x0,x를 열로 변환하고, 둘을 합친 행을 만들기.\n",
        "#print(Xb) # theta0 + theta1 x  --> (theta0, theta1) * (1, x)\n",
        "Xb.shape ### MM Xb 배열의 내용물은 두고, 외형적인 차원의 형태를 출력"
      ],
      "metadata": {
        "id": "dwI_83LGH_FE"
      },
      "execution_count": null,
      "outputs": []
    },
    {
      "cell_type": "markdown",
      "source": [
        "(6) gradient descent 변수 설정"
      ],
      "metadata": {
        "id": "vj80vQ0aH_lU"
      }
    },
    {
      "cell_type": "code",
      "source": [
        "learning_rate = 0.0001 # alpha: learning rate\n",
        "n_iter = 800 ### mmm 반복시행 횟수 설정\n",
        "\n",
        "theta = np.zeros((2, 1))\n",
        "gradient = np.zeros((2, 1))"
      ],
      "metadata": {
        "id": "WrJb6_FEIF4L"
      },
      "execution_count": null,
      "outputs": []
    },
    {
      "cell_type": "markdown",
      "source": [
        "(7) gradient descent 실행"
      ],
      "metadata": {
        "id": "EFtc3D4kIGbs"
      }
    },
    {
      "cell_type": "code",
      "source": [
        "for i in range(n_iter):\n",
        "    gradient = (1.0/m)*Xb.T.dot(Xb.dot(theta)-Y)\n",
        "    theta = theta - learning_rate*gradient"
      ],
      "metadata": {
        "id": "8d066sxSILh-"
      },
      "execution_count": null,
      "outputs": []
    },
    {
      "cell_type": "markdown",
      "source": [
        "(8) 결과 확인"
      ],
      "metadata": {
        "id": "obapeIsVIMJU"
      }
    },
    {
      "cell_type": "code",
      "source": [
        "theta"
      ],
      "metadata": {
        "id": "z1up28f5IOxF"
      },
      "execution_count": null,
      "outputs": []
    },
    {
      "cell_type": "code",
      "source": [
        "Y_pred = Xb.dot(theta)\n",
        "\n",
        "plt.plot(X, Y_pred, color='Red')\n",
        "plt.plot(X, Y, '.b')"
      ],
      "metadata": {
        "id": "-O0P5RabRf9h"
      },
      "execution_count": null,
      "outputs": []
    },
    {
      "cell_type": "markdown",
      "source": [
        "(9) 번외편 - sklearn"
      ],
      "metadata": {
        "id": "2Vwdht8EIUSE"
      }
    },
    {
      "cell_type": "code",
      "source": [
        "from sklearn.linear_model import SGDRegressor\n",
        "\n",
        "model = SGDRegressor(max_iter = 100, penalty=None, alpha=0.0001)\n",
        "model.fit(X, Y.ravel())\n",
        "\n",
        "Y_pred = model.predict(X)"
      ],
      "metadata": {
        "id": "z1-1zVVFRdnh"
      },
      "execution_count": null,
      "outputs": []
    },
    {
      "cell_type": "code",
      "source": [
        "plt.plot(X, Y, 'b.')\n",
        "plt.plot(X, Y_pred, 'r')\n",
        "plt.show()"
      ],
      "metadata": {
        "id": "BlHOUWyrRpun"
      },
      "execution_count": null,
      "outputs": []
    },
    {
      "cell_type": "code",
      "source": [
        ""
      ],
      "metadata": {
        "id": "3_K7MXEWcuFU"
      },
      "execution_count": null,
      "outputs": []
    }
  ]
}